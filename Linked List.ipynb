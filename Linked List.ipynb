{
 "cells": [
  {
   "cell_type": "markdown",
   "id": "1458e47a",
   "metadata": {},
   "source": [
    "# Linked List Implementation"
   ]
  },
  {
   "cell_type": "code",
   "execution_count": 5,
   "id": "017ed35d",
   "metadata": {},
   "outputs": [
    {
     "name": "stdout",
     "output_type": "stream",
     "text": [
      "1 <__main__.Node object at 0x000001D528FA2340>\n",
      "3\n",
      "3 None\n"
     ]
    }
   ],
   "source": [
    "class Node:\n",
    "    def __init__(self,data):\n",
    "        self.data=data\n",
    "        self.next=None\n",
    "a=Node(1)    ## a is 1st obj at 0x0000026F7C555D00\n",
    "b=Node(2)    ## b is 2nd obj at 0x0000026F7C555970\n",
    "c=Node(3)    ## c is 3rd obj at 0x0000026F7C555850\n",
    "a.next=b     ## storing the \"b's reference in a's next\"\n",
    "b.next=c     ## storing the \"c's reference in b's next\"\n",
    "print(a.data,a.next)\n",
    "print(b.next.data)\n",
    "print(c.data,c.next)"
   ]
  },
  {
   "cell_type": "code",
   "execution_count": 17,
   "id": "c49786cf",
   "metadata": {},
   "outputs": [
    {
     "name": "stdout",
     "output_type": "stream",
     "text": [
      "3 <__main__.Node object at 0x0000026F7C57EDF0>\n"
     ]
    }
   ],
   "source": [
    "f=Node(10)\n",
    "c.next=f\n",
    "print(c.data,c.next)"
   ]
  },
  {
   "cell_type": "markdown",
   "id": "c253914b",
   "metadata": {},
   "source": [
    "# Linked List Input 1"
   ]
  },
  {
   "cell_type": "code",
   "execution_count": 5,
   "id": "504139ea",
   "metadata": {},
   "outputs": [],
   "source": [
    "'''\n",
    "not Optimised \n",
    "Time Complexity is = O(n^2)\n",
    "\n",
    "'''\n",
    "## Node creation\n",
    "class Node:\n",
    "    def __init__(self,data):\n",
    "        self.data=data\n",
    "        self.next=None\n",
    "def TakeInput():\n",
    "    '''\n",
    "    take input from user and creat a linkedlist \n",
    "    return the HEAD of the LinkedList\n",
    "    '''\n",
    "    InputList=[int(ele) for ele in input().split()]  ## taking input from user \n",
    "    ## Initialize Head to None\n",
    "    head=None  \n",
    "    for currData in InputList:\n",
    "        if currData==-1:       ## -1 to end the list\n",
    "            break\n",
    "        else:\n",
    "            ## if list has elements create a new node\n",
    "            ## with data and next refecence\n",
    "            ## By Calling the Node init method\n",
    "            Newnode=Node(currData)\n",
    "            if head is None:   ## Giving the node value to be address of first element in linkedlist\n",
    "                head=Newnode\n",
    "            else:   ## << starts at 2nd element >>\n",
    "                ## storing head to 'curr' to iterate through \n",
    "                ## the linked list without loosing the head \n",
    "                curr=head           \n",
    "                while curr.next is not None:  ## \n",
    "                    curr=curr.next\n",
    "                curr.next=Newnode\n",
    "            \n",
    "    return head "
   ]
  },
  {
   "cell_type": "markdown",
   "id": "b89ecffa",
   "metadata": {},
   "source": [
    "# print eles of LL"
   ]
  },
  {
   "cell_type": "code",
   "execution_count": 15,
   "id": "9d299497",
   "metadata": {},
   "outputs": [],
   "source": [
    "def printLL(head):\n",
    "    while head is not None:\n",
    "        print(str(head.data)+\"->\",end=\"\")\n",
    "        head=head.next\n",
    "    print(\"None\")\n",
    "    return"
   ]
  },
  {
   "cell_type": "code",
   "execution_count": 10,
   "id": "16591879",
   "metadata": {},
   "outputs": [
    {
     "name": "stdout",
     "output_type": "stream",
     "text": [
      "1 2 3 4 5 6 -1\n",
      "1->2->3->4->5->6->None\n"
     ]
    }
   ],
   "source": [
    "head=TakeInput()\n",
    "printLL(head)"
   ]
  },
  {
   "cell_type": "markdown",
   "id": "851a49fa",
   "metadata": {},
   "source": [
    "# Linked List Input 2"
   ]
  },
  {
   "cell_type": "code",
   "execution_count": 14,
   "id": "04456e67",
   "metadata": {},
   "outputs": [],
   "source": [
    "'''\n",
    "Optimised \n",
    "Time Complexity is = O(n)\n",
    "\n",
    "'''\n",
    "## Node creation\n",
    "class Node:\n",
    "    def __init__(self,data):\n",
    "        self.data=data\n",
    "        self.next=None\n",
    "def TakeInput():\n",
    "    '''\n",
    "    take input from user and creat a linkedlist \n",
    "    return the HEAD of the LinkedList\n",
    "    '''\n",
    "    InputList=[int(ele) for ele in input().split()]  ## taking input from user \n",
    "    ## Initialize Head to None\n",
    "    head=None\n",
    "    tail=None\n",
    "    for currData in InputList:\n",
    "        if currData==-1:       ## -1 to end the list\n",
    "            break\n",
    "        else:\n",
    "            ## if list has elements create a new node\n",
    "            ## with data and next refecence\n",
    "            ## By Calling the Node init method\n",
    "            Newnode=Node(currData)\n",
    "            if head is None:   ## Giving the node value to be address of first element in linkedlist\n",
    "                head=Newnode\n",
    "                tail=Newnode\n",
    "            else:  \n",
    "                tail.next=Newnode   ## the next node ref is stored at current tails next\n",
    "                tail=Newnode        ## the tail pointing to new node came just now\n",
    "            \n",
    "    return head "
   ]
  },
  {
   "cell_type": "markdown",
   "id": "c3f79b7a",
   "metadata": {},
   "source": [
    "# Lenth of LL"
   ]
  },
  {
   "cell_type": "code",
   "execution_count": 8,
   "id": "14fd2151",
   "metadata": {},
   "outputs": [],
   "source": [
    "def LenthLL(head):\n",
    "    count=0\n",
    "    while head is not None:\n",
    "        count+=1\n",
    "        head=head.next\n",
    "    return count"
   ]
  },
  {
   "cell_type": "markdown",
   "id": "ad1cee01",
   "metadata": {},
   "source": [
    "# Print ith node"
   ]
  },
  {
   "cell_type": "code",
   "execution_count": 2,
   "id": "f0abc73d",
   "metadata": {},
   "outputs": [],
   "source": [
    "def printIthNode(head, i):\n",
    "    #Your code goes here\n",
    "    count=-1\n",
    "    while head is not None:\n",
    "        count+=1\n",
    "        if count==i:\n",
    "            return head.data\n",
    "        else:\n",
    "            head=head.next\n",
    "    return "
   ]
  },
  {
   "cell_type": "markdown",
   "id": "ee751cbb",
   "metadata": {},
   "source": [
    "# Insert at ith postion of LL"
   ]
  },
  {
   "cell_type": "code",
   "execution_count": 12,
   "id": "c8050b13",
   "metadata": {},
   "outputs": [],
   "source": [
    "def insertAtI(head,i,data):\n",
    "    if i<0 and i>LenthLL(head):\n",
    "        return head\n",
    "    else:\n",
    "        count=0\n",
    "        prev=None\n",
    "        curr=head\n",
    "        while count<i:\n",
    "            prev=curr\n",
    "            curr=curr.next\n",
    "            count+=1\n",
    "        Newnode=Node(data)\n",
    "        if prev is not None:\n",
    "            prev.next=Newnode\n",
    "        else:\n",
    "            head=Newnode\n",
    "        Newnode.next=curr\n",
    "    return head"
   ]
  },
  {
   "cell_type": "code",
   "execution_count": 13,
   "id": "43d9a5d9",
   "metadata": {},
   "outputs": [
    {
     "name": "stdout",
     "output_type": "stream",
     "text": [
      "1 2 3 4 5 -1\n",
      "1->2->3->4->5->None\n",
      "5\n",
      "1->2->10->3->4->5->None\n",
      "0->1->2->10->3->4->5->None\n",
      "0->1->2->10->3->4->5->20->None\n"
     ]
    }
   ],
   "source": [
    "head=TakeInput()\n",
    "printLL(head)\n",
    "print(LenthLL(head))\n",
    "head=insertAtI(head,2,10)\n",
    "printLL(head)\n",
    "head=insertAtI(head,0,0)\n",
    "printLL(head)\n",
    "head=insertAtI(head,LenthLL(head),20)\n",
    "printLL(head)"
   ]
  },
  {
   "cell_type": "markdown",
   "id": "d91ca0d6",
   "metadata": {},
   "source": [
    "# Delete ith Node "
   ]
  },
  {
   "cell_type": "code",
   "execution_count": null,
   "id": "391ebf51",
   "metadata": {},
   "outputs": [],
   "source": [
    "def deleteIth(head,i):\n",
    "    if i<0 and i>=lenth(head):\n",
    "        return head\n",
    "    else:\n",
    "        count=0\n",
    "        prev=None\n",
    "        curr=head\n",
    "        while count<i:\n",
    "            prev=curr\n",
    "            curr=curr.next\n",
    "            count+=1\n",
    "        if "
   ]
  },
  {
   "cell_type": "code",
   "execution_count": 1,
   "id": "0182b60a",
   "metadata": {},
   "outputs": [],
   "source": [
    "# # Following is the Node class already written for the Linked List.\n",
    "# class Node :\n",
    "#     def __init__(self, data) :\n",
    "#         self.data = data\n",
    "#         self.next = None\n",
    "\n",
    "\n",
    "def lengthLL(head):\n",
    "    temp=head\n",
    "    count=0\n",
    "    while temp is not None:\n",
    "        count+=1\n",
    "        temp=temp.next\n",
    "    return count\n",
    "\n",
    "\n",
    "def deleteNode(head, pos) :\n",
    "    # Write your code here.\n",
    "    if pos<0 or pos>=lengthLL(head):\n",
    "        return head\n",
    "    else:\n",
    "        count=0\n",
    "        prev=None\n",
    "        curr=head\n",
    "        while count<pos:\n",
    "            prev=curr\n",
    "            curr=curr.next\n",
    "            count+=1\n",
    "        if prev is  None:\n",
    "            head=curr.next\n",
    "            del curr\n",
    "        elif pos == lengthLL(head):\n",
    "            prev.next=None\n",
    "            del curr\n",
    "        else:\n",
    "            prev.next = curr.next\n",
    "            del curr\n",
    "    return head\n"
   ]
  },
  {
   "cell_type": "code",
   "execution_count": 13,
   "id": "14cdcf4e",
   "metadata": {},
   "outputs": [],
   "source": [
    "# Following is the Node class already written for the Linked List.\n",
    "class Node :\n",
    "    def __init__(self, data) :\n",
    "        self.data = data\n",
    "        self.next = None\n",
    "\n",
    "\n",
    "def lengthLL(head):\n",
    "    temp=head\n",
    "    count=0\n",
    "    while temp is not None:\n",
    "        count+=1\n",
    "        temp=temp.next\n",
    "    return count\n",
    "\n",
    "\n",
    "def deleteNode(head, pos) :\n",
    "    # Write your code here.\n",
    "    l=lengthLL(head)\n",
    "    if pos<0 and pos>=l:\n",
    "        return head\n",
    "    else:\n",
    "        if pos==0:\n",
    "            if head.next is None:\n",
    "                head=None\n",
    "                return head\n",
    "            else:\n",
    "                head=head.next\n",
    "                return head\n",
    "        count=0\n",
    "        prev=None\n",
    "        curr=head\n",
    "        while pos<count:\n",
    "            prev=curr\n",
    "            curr=curr.next\n",
    "            count+=1\n",
    "        if curr.next is None:\n",
    "            prev.next=None\n",
    "        else:\n",
    "            prev.next=curr.next\n",
    "            \n",
    "            \n",
    "    return head\n"
   ]
  },
  {
   "cell_type": "code",
   "execution_count": 12,
   "id": "2989494b",
   "metadata": {},
   "outputs": [
    {
     "name": "stdout",
     "output_type": "stream",
     "text": [
      "0\n",
      "None\n"
     ]
    }
   ],
   "source": [
    "head=TakeInput()\n",
    "head=deleteNode(head,0)\n",
    "printLL(head)"
   ]
  },
  {
   "cell_type": "markdown",
   "id": "782a0c31",
   "metadata": {},
   "source": [
    "# Insert at ith position by Recursion"
   ]
  },
  {
   "cell_type": "code",
   "execution_count": 10,
   "id": "e3ccb94e",
   "metadata": {},
   "outputs": [
    {
     "name": "stdout",
     "output_type": "stream",
     "text": [
      "1 2 3 4 5 -1\n",
      "1->2->3->4->5->None\n",
      "None\n",
      "1->2->3->4->5->0->None\n",
      "None\n"
     ]
    }
   ],
   "source": [
    "class Node:\n",
    "    def __init__(self,data):\n",
    "        self.data=data\n",
    "        self.next=None\n",
    "def TakeInput():\n",
    "    '''\n",
    "    take input from user and creat a linkedlist \n",
    "    return the HEAD of the LinkedList\n",
    "    '''\n",
    "    InputList=[int(ele) for ele in input().split()]  ## taking input from user \n",
    "    ## Initialize Head to None\n",
    "    head=None\n",
    "    tail=None\n",
    "    for currData in InputList:\n",
    "        if currData==-1:       ## -1 to end the list\n",
    "            break\n",
    "        else:\n",
    "            ## if list has elements create a new node\n",
    "            ## with data and next refecence\n",
    "            ## By Calling the Node init method\n",
    "            Newnode=Node(currData)\n",
    "            if head is None:   ## Giving the node value to be address of first element in linkedlist\n",
    "                head=Newnode\n",
    "                tail=Newnode\n",
    "            else:  \n",
    "                tail.next=Newnode   ## the next node ref is stored at current tails next\n",
    "                tail=Newnode        ## the tail pointing to new node came just now\n",
    "            \n",
    "    return head\n",
    "\n",
    "def insertAtithRec(head,i,data):\n",
    "    \"\"\"\n",
    "    Inserting the new Node at ith Node using Recursion\n",
    "    \"\"\"\n",
    "    if i<0:\n",
    "        return head\n",
    "    \n",
    "    if i==0:\n",
    "        newNode=Node(data)\n",
    "        newNode.next=head\n",
    "        return newNode\n",
    "    if head is None:\n",
    "        return None\n",
    "    else:\n",
    "        smallhead=insertAtithRec(head.next,i-1,data)\n",
    "        head.next=smallhead\n",
    "        return head\n",
    "\n",
    "\n",
    "\n",
    "\n",
    "def printLL(head):\n",
    "    while head is not None:\n",
    "        print(str(head.data)+\"->\",end=\"\")\n",
    "        head=head.next\n",
    "    print(\"None\")\n",
    "head=TakeInput()\n",
    "print(printLL(head))\n",
    "head= insertAtithRec(head,5,0)\n",
    "print(printLL(head))"
   ]
  },
  {
   "cell_type": "markdown",
   "id": "da570bca",
   "metadata": {},
   "source": [
    "# Delete node ith position by Recursion"
   ]
  },
  {
   "cell_type": "code",
   "execution_count": null,
   "id": "90603959",
   "metadata": {},
   "outputs": [],
   "source": [
    "from sys import stdin, setrecursionlimit\n",
    "setrecursionlimit(10 ** 6)\n",
    "\n",
    "#Following is the Node class already written for the Linked List\n",
    "class Node :\n",
    "    def __init__(self, data) :\n",
    "        self.data = data\n",
    "        self.next = None\n",
    "\n",
    "\n",
    "def deleteNodeRec(head, pos) :\n",
    "\t#Your code goes here\n",
    "    if pos<0:\n",
    "        return head\n",
    "    if pos==0:\n",
    "        return head.next\n",
    "    if head.next is None:\n",
    "        return head\n",
    "    smallhead=deleteNodeRec(head.next,pos-1)\n",
    "    head.next=smallhead\n",
    "    return head\n",
    "\n",
    "def takeInput() :\n",
    "    head = None\n",
    "    tail = None\n",
    "\n",
    "    datas = list(map(int, stdin.readline().rstrip().split(\" \")))\n",
    "\n",
    "    i = 0\n",
    "    while (i < len(datas)) and (datas[i] != -1) :\n",
    "        data = datas[i]\n",
    "        newNode = Node(data)\n",
    "\n",
    "        if head is None :\n",
    "            head = newNode\n",
    "            tail = newNode\n",
    "\n",
    "        else :\n",
    "            tail.next = newNode\n",
    "            tail = newNode\n",
    "\n",
    "        i += 1\n",
    "\n",
    "    return head\n",
    "\n",
    "\n",
    "\n",
    "\n",
    "def printLinkedList(head) :\n",
    "\n",
    "    while head is not None :\n",
    "        print(head.data, end = \" \")\n",
    "        head = head.next\n",
    "\n",
    "    print()\n",
    "\n",
    "\n",
    "#main\n",
    "t = int(stdin.readline().rstrip())\n",
    "\n",
    "while t > 0 :\n",
    "    \n",
    "    head = takeInput()\n",
    "    pos = int(stdin.readline().rstrip())    \n",
    "\n",
    "    newHead = deleteNodeRec(head, pos)\n",
    "    printLinkedList(newHead)\n",
    "\n",
    "    t -= 1"
   ]
  },
  {
   "cell_type": "markdown",
   "id": "ee6768c7",
   "metadata": {},
   "source": [
    "# Find a Node in Linked List"
   ]
  },
  {
   "cell_type": "code",
   "execution_count": null,
   "id": "aa6e85c9",
   "metadata": {},
   "outputs": [],
   "source": [
    "# Following is the Node class already written for the Linked List\n",
    "class Node :\n",
    "    def __init__(self, data) :\n",
    "        self.data = data\n",
    "        self.next = None\n",
    "\n",
    "def findNode(head, n) :\n",
    "    # Write your code here.\n",
    "    count=0\n",
    "    curr=head\n",
    "    while curr is not None:\n",
    "        if curr.data==n:\n",
    "            return count\n",
    "        else:\n",
    "            curr=curr.next\n",
    "            count+=1\n",
    "    return -1"
   ]
  },
  {
   "cell_type": "markdown",
   "id": "c5136bc9",
   "metadata": {},
   "source": [
    "# "
   ]
  },
  {
   "cell_type": "code",
   "execution_count": 1,
   "id": "c6ccdd12",
   "metadata": {},
   "outputs": [
    {
     "ename": "ValueError",
     "evalue": "invalid literal for int() with base 10: ''",
     "output_type": "error",
     "traceback": [
      "\u001b[1;31m---------------------------------------------------------------------------\u001b[0m",
      "\u001b[1;31mValueError\u001b[0m                                Traceback (most recent call last)",
      "Input \u001b[1;32mIn [1]\u001b[0m, in \u001b[0;36m<cell line: 67>\u001b[1;34m()\u001b[0m\n\u001b[0;32m     63\u001b[0m     \u001b[38;5;28mprint\u001b[39m()\n\u001b[0;32m     66\u001b[0m \u001b[38;5;66;03m#main\u001b[39;00m\n\u001b[1;32m---> 67\u001b[0m t \u001b[38;5;241m=\u001b[39m \u001b[38;5;28;43mint\u001b[39;49m\u001b[43m(\u001b[49m\u001b[43mstdin\u001b[49m\u001b[38;5;241;43m.\u001b[39;49m\u001b[43mreadline\u001b[49m\u001b[43m(\u001b[49m\u001b[43m)\u001b[49m\u001b[38;5;241;43m.\u001b[39;49m\u001b[43mrstrip\u001b[49m\u001b[43m(\u001b[49m\u001b[43m)\u001b[49m\u001b[43m)\u001b[49m\n\u001b[0;32m     69\u001b[0m \u001b[38;5;28;01mwhile\u001b[39;00m t \u001b[38;5;241m>\u001b[39m \u001b[38;5;241m0\u001b[39m :\n\u001b[0;32m     71\u001b[0m     head \u001b[38;5;241m=\u001b[39m takeInput()\n",
      "\u001b[1;31mValueError\u001b[0m: invalid literal for int() with base 10: ''"
     ]
    }
   ],
   "source": [
    "\n",
    "\n",
    "\n"
   ]
  }
 ],
 "metadata": {
  "kernelspec": {
   "display_name": "Python 3 (ipykernel)",
   "language": "python",
   "name": "python3"
  },
  "language_info": {
   "codemirror_mode": {
    "name": "ipython",
    "version": 3
   },
   "file_extension": ".py",
   "mimetype": "text/x-python",
   "name": "python",
   "nbconvert_exporter": "python",
   "pygments_lexer": "ipython3",
   "version": "3.9.12"
  }
 },
 "nbformat": 4,
 "nbformat_minor": 5
}
